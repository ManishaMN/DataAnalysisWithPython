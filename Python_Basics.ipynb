{
 "cells": [
  {
   "cell_type": "markdown",
   "id": "6c90ecc6",
   "metadata": {},
   "source": [
    "## Function and object method calls\n",
    "•\tYou call functions using parentheses and passing zero or more arguments, optionally assigning the returned value to a variable:\n",
    "result = f(x, y, z) g()\n",
    "\n",
    "-Almost every object in Python has attached functions, known as methods, that have access to the object’s internal contents. You can call them using the following syntax:\n",
    "obj.some_method(x, y, z)\n",
    "\n",
    "•Functions can take both positional and keyword arguments:\n",
    "result = f(a, b, c, d=5, e=\"foo\")\n",
    "\n"
   ]
  },
  {
   "cell_type": "code",
   "execution_count": null,
   "id": "9f6f0279",
   "metadata": {},
   "outputs": [],
   "source": [
    "#object is an instance of a particular type using isinstance function\n",
    "a  = 3\n",
    "b = '2'\n",
    "isinstance( a, int)\n",
    "isinstance( b, (int, str)) # can accept tuple of types"
   ]
  },
  {
   "cell_type": "markdown",
   "id": "0ef4c501",
   "metadata": {},
   "source": [
    "## Dynamic referencing\n",
    "\n",
    "Variables in Python have no inherent type associated with them;\n",
    "a variable can refer to a different type of object simply by doing an assignment. \n",
    "\n",
    "A = 5 #int\n",
    "A = ‘fo’ #string \n",
    "\n",
    "\"5\" + 5\n",
    "TypeError: can only concatenate str (not \"int\") to str ********\n",
    "\n",
    "Implicit conversions occur only in certain circumstances like a= 4.5, b= 2 a/b  2.25\n"
   ]
  },
  {
   "cell_type": "markdown",
   "id": "ddf569c5",
   "metadata": {},
   "source": [
    "## Duck Typing\n",
    "\n",
    "you may not care about the type of an object but rather only whether it has certain methods or behavior. This is sometimes called duck typing\n",
    "\n",
    "like checking if it is iterable \n"
   ]
  },
  {
   "cell_type": "code",
   "execution_count": 10,
   "id": "f18c2be7",
   "metadata": {},
   "outputs": [
    {
     "data": {
      "text/plain": [
       "False"
      ]
     },
     "execution_count": 10,
     "metadata": {},
     "output_type": "execute_result"
    }
   ],
   "source": [
    "# Way of duck typing\n",
    "#Often you may not care about the type of an object but rather only whether it has certain methods or behavior.\n",
    "def isiterable(obj):\n",
    "    try:\n",
    "        iter(obj)\n",
    "        return True\n",
    "    except TypeError: # not iterable\n",
    "        return False\n",
    "    \n",
    "isiterable(2) \n",
    "isiterable((3,4))"
   ]
  },
  {
   "cell_type": "markdown",
   "id": "6f5d76dd",
   "metadata": {},
   "source": [
    "## Imports\n",
    "\n",
    "module is simply a file .py extension\n"
   ]
  },
  {
   "cell_type": "code",
   "execution_count": 14,
   "id": "a7ac1bc6",
   "metadata": {},
   "outputs": [],
   "source": [
    "# x_module.py - assume this as a file\n",
    "PI = 3.14159\n",
    "\n",
    "def f(x):\n",
    "    return x + 2\n",
    "\n",
    "def g(a, b):\n",
    "    return a + b\n",
    "\n"
   ]
  },
  {
   "cell_type": "code",
   "execution_count": 15,
   "id": "36c6edcc",
   "metadata": {},
   "outputs": [
    {
     "ename": "ModuleNotFoundError",
     "evalue": "No module named 'x_module'",
     "output_type": "error",
     "traceback": [
      "\u001b[1;31m---------------------------------------------------------------------------\u001b[0m",
      "\u001b[1;31mModuleNotFoundError\u001b[0m                       Traceback (most recent call last)",
      "Cell \u001b[1;32mIn[15], line 2\u001b[0m\n\u001b[0;32m      1\u001b[0m \u001b[38;5;66;03m# to access variables and functions in this file x_.pymodule.py\u001b[39;00m\n\u001b[1;32m----> 2\u001b[0m \u001b[38;5;28;01mimport\u001b[39;00m \u001b[38;5;21;01mx_module\u001b[39;00m\n\u001b[0;32m      3\u001b[0m result \u001b[38;5;241m=\u001b[39m x_module\u001b[38;5;241m.\u001b[39mf(\u001b[38;5;241m5\u001b[39m)\n\u001b[0;32m      4\u001b[0m pi \u001b[38;5;241m=\u001b[39m x_module\u001b[38;5;241m.\u001b[39mpi\n",
      "\u001b[1;31mModuleNotFoundError\u001b[0m: No module named 'x_module'"
     ]
    }
   ],
   "source": [
    "# to access variables and functions in this file x_.pymodule.py\n",
    "import x_module\n",
    "result = x_module.f(5)\n",
    "pi = x_module.pi\n",
    "\n"
   ]
  },
  {
   "cell_type": "code",
   "execution_count": null,
   "id": "30d9b293",
   "metadata": {},
   "outputs": [],
   "source": [
    "#alternate way to above\n",
    "from x_module import g, pi\n",
    "result = g(5,pi)\n",
    "\n",
    "## as key word to give variables names\n",
    "\n",
    "import x_module as s\n",
    "from x_module import pi as p , g as gg\n",
    "x = s.f(p)\n",
    "y = gg(6,pi)"
   ]
  },
  {
   "cell_type": "markdown",
   "id": "db015a89",
   "metadata": {},
   "source": [
    "## Binary operators and comparision\n",
    "\n",
    "a + b\tAdd a and b\n",
    "\n",
    "a - b\tSubtract b from a\n",
    "\n",
    "a * b\tMultiply a by b\n",
    "\n",
    "a / b\tDivide a by b\n",
    "\n",
    "##### a // b\tFloor-divide a by b, dropping any fractional remainder\n",
    "\n",
    "a ** b\tRaise a to the b power\n",
    "\n",
    "a & b\tTrue if both a and b are True; for integers, take the bitwise AND\n",
    "\n",
    "a | b\tTrue if either a or b is True; for integers, take the bitwise OR\n",
    "\n",
    "##### a ^ b\tFor Booleans, True if a or b is True, but not both; for integers, take the bitwise EXCLUSIVE-OR\n",
    "\n",
    "a == b\tTrue if a equals b\n",
    "\n",
    "a != b\tTrue if a is not equal to b\n",
    "\n",
    "a < b, a <= b\tTrue if a is less than (less than or equal to) b\n",
    "\n",
    "a > b, a >= b\tTrue if a is greater than (greater than or equal to) b\n",
    "\n",
    "a is b\tTrue if a and b reference the same Python object ****\n",
    "\n",
    "a is not b\tTrue if a and b reference different Python objects"
   ]
  },
  {
   "cell_type": "code",
   "execution_count": 23,
   "id": "b51fe059",
   "metadata": {},
   "outputs": [
    {
     "data": {
      "text/plain": [
       "True"
      ]
     },
     "execution_count": 23,
     "metadata": {},
     "output_type": "execute_result"
    }
   ],
   "source": [
    "#  To check if two variables refer to the same object ,use the is keyword. ********\n",
    "# Use is not to check that two objects are not the same: \n",
    "\n",
    "a = [1,2]\n",
    "b = a\n",
    "a is b"
   ]
  },
  {
   "cell_type": "code",
   "execution_count": 20,
   "id": "257f9c07",
   "metadata": {},
   "outputs": [],
   "source": [
    "c = list(a)"
   ]
  },
  {
   "cell_type": "code",
   "execution_count": 21,
   "id": "99d851fc",
   "metadata": {},
   "outputs": [
    {
     "data": {
      "text/plain": [
       "True"
      ]
     },
     "execution_count": 21,
     "metadata": {},
     "output_type": "execute_result"
    }
   ],
   "source": [
    "a == c\n"
   ]
  },
  {
   "cell_type": "code",
   "execution_count": 22,
   "id": "52699af2",
   "metadata": {},
   "outputs": [
    {
     "data": {
      "text/plain": [
       "False"
      ]
     },
     "execution_count": 22,
     "metadata": {},
     "output_type": "execute_result"
    }
   ],
   "source": [
    "a is c "
   ]
  },
  {
   "cell_type": "markdown",
   "id": "9340bb0c",
   "metadata": {},
   "source": [
    "## Mutable and immutable objects\n",
    "\n",
    "Many objects in Python, such as lists, dictionaries, NumPy arrays, and most user-defined types (classes), are mutable. This means that the object or values that they contain can be modified\n",
    "\n",
    "like strings and tuples, are immutable, which means their internal data cannot be changed:\n",
    "\n",
    "just because you can mutate an object does not mean that you always should. Such actions are known as side effects. For example, when writing a function, any side effects should be explicitly communicated to the user in the function’s documentation or comments. "
   ]
  },
  {
   "cell_type": "code",
   "execution_count": 26,
   "id": "5ec3541d",
   "metadata": {},
   "outputs": [
    {
     "data": {
      "text/plain": [
       "[1, 2]"
      ]
     },
     "execution_count": 26,
     "metadata": {},
     "output_type": "execute_result"
    }
   ],
   "source": [
    "a = [1,3.4]\n",
    "a[1] = 2\n",
    "a"
   ]
  },
  {
   "cell_type": "code",
   "execution_count": 27,
   "id": "5ff65e25",
   "metadata": {},
   "outputs": [
    {
     "ename": "TypeError",
     "evalue": "'tuple' object does not support item assignment",
     "output_type": "error",
     "traceback": [
      "\u001b[1;31m---------------------------------------------------------------------------\u001b[0m",
      "\u001b[1;31mTypeError\u001b[0m                                 Traceback (most recent call last)",
      "Cell \u001b[1;32mIn[27], line 2\u001b[0m\n\u001b[0;32m      1\u001b[0m a \u001b[38;5;241m=\u001b[39m (\u001b[38;5;241m1\u001b[39m,\u001b[38;5;241m2\u001b[39m,\u001b[38;5;241m3\u001b[39m)\n\u001b[1;32m----> 2\u001b[0m a[\u001b[38;5;241m1\u001b[39m] \u001b[38;5;241m=\u001b[39m \u001b[38;5;241m2\u001b[39m\n",
      "\u001b[1;31mTypeError\u001b[0m: 'tuple' object does not support item assignment"
     ]
    }
   ],
   "source": [
    "a = (1,2,3)\n",
    "a[1] = 2"
   ]
  },
  {
   "cell_type": "markdown",
   "id": "451928e3",
   "metadata": {},
   "source": [
    "## Scalar Types\n",
    "\n",
    "small set of built-in types for handling numerical data, strings, Boolean (True or False) values, and dates and time\n",
    "\n",
    "Type\tDescription\n",
    "\n",
    "None\t:   The Python “null” value (only one instance of the None object exists)\n",
    "\n",
    "str     : \tString type; holds Unicode strings\n",
    "\n",
    "bytes\t:   Raw binary data\n",
    "\n",
    "float\t :  Double-precision floating-point number (note there is no separate double type)\n",
    "\n",
    "bool\t:  A Boolean True or False value\n",
    "\n",
    "int\tArbitrary precision integer"
   ]
  },
  {
   "cell_type": "markdown",
   "id": "67bb96da",
   "metadata": {},
   "source": [
    "## Numeric types\n",
    "\n",
    "The primary Python types for numbers are int and float. An int can store arbitrarily large numbers ***\n",
    "\n",
    "Floating-point numbers are represented with the Python float type.\n",
    "\n",
    "Under the hood, each one is a double-precision value. They can also be expressed with scientific notation ***\n",
    "\n",
    "Integer division not resulting in a whole number will always yield a floating-point number:\n",
    "\n",
    "To get C-style integer division (which drops the fractional part if the result is not a whole number), use the floor division operator //"
   ]
  },
  {
   "cell_type": "code",
   "execution_count": 28,
   "id": "98260d99",
   "metadata": {},
   "outputs": [
    {
     "data": {
      "text/plain": [
       "90437726838166281922196740713592402548216572647633511909322851785860063998815636692861725909885786788049893143072672407478963546192856048432945070088207081068113600339902414512027424828662683933794665123496901421411630827377222985616434164439959056092372120714914097541844405526650725606616859757115307400863254604223778840147785213068046945145772542185550275692858251996386532941702252492213594791317969070718976"
      ]
     },
     "execution_count": 28,
     "metadata": {},
     "output_type": "execute_result"
    }
   ],
   "source": [
    "val = 444444444444444444444\n",
    "val ** 20\n"
   ]
  },
  {
   "cell_type": "code",
   "execution_count": 29,
   "id": "8a6896ef",
   "metadata": {},
   "outputs": [],
   "source": [
    "fval = 5.6666\n",
    "fval = 6.78e-7 #scientific ***"
   ]
  },
  {
   "cell_type": "code",
   "execution_count": 32,
   "id": "de3af9fe",
   "metadata": {},
   "outputs": [
    {
     "data": {
      "text/plain": [
       "3.0"
      ]
     },
     "execution_count": 32,
     "metadata": {},
     "output_type": "execute_result"
    }
   ],
   "source": [
    "6/2  #int divison will yield float"
   ]
  },
  {
   "cell_type": "code",
   "execution_count": 33,
   "id": "0c402afc",
   "metadata": {},
   "outputs": [
    {
     "data": {
      "text/plain": [
       "3"
      ]
     },
     "execution_count": 33,
     "metadata": {},
     "output_type": "execute_result"
    }
   ],
   "source": [
    "6//2 # to drop fraction part use floor"
   ]
  },
  {
   "cell_type": "markdown",
   "id": "c85c53c2",
   "metadata": {},
   "source": [
    "## Strings\n",
    "\n",
    "string literals using either single quotes ' or double quotes \" (double quotes are generally favored)\n",
    "\n",
    "For multiline strings with line breaks, you can use triple quotes, either ''' or \"\"\"\n",
    "\n",
    "Strings are immutable ***"
   ]
  },
  {
   "cell_type": "code",
   "execution_count": 34,
   "id": "9004aec8",
   "metadata": {},
   "outputs": [
    {
     "name": "stdout",
     "output_type": "stream",
     "text": [
      " \n",
      "longer \n",
      "string\n",
      "multiple lines\n",
      "\n"
     ]
    }
   ],
   "source": [
    "a = 'one way'\n",
    "b = \" another\"\n",
    "c = \"\"\" \n",
    "longer \n",
    "string\n",
    "multiple lines\n",
    "\"\"\"\n",
    "print(c)"
   ]
  },
  {
   "cell_type": "code",
   "execution_count": 35,
   "id": "d2ef24a0",
   "metadata": {},
   "outputs": [
    {
     "data": {
      "text/plain": [
       "4"
      ]
     },
     "execution_count": 35,
     "metadata": {},
     "output_type": "execute_result"
    }
   ],
   "source": [
    "c.count(\"\\n\")"
   ]
  },
  {
   "cell_type": "code",
   "execution_count": 36,
   "id": "93eebe33",
   "metadata": {},
   "outputs": [
    {
     "data": {
      "text/plain": [
       "' this is longer string'"
      ]
     },
     "execution_count": 36,
     "metadata": {},
     "output_type": "execute_result"
    }
   ],
   "source": [
    "## to modify a string , we need to create a function or a method like replace ***\n",
    "\n",
    "a = \" this is string\"\n",
    "b = a.replace(\"string\", \"longer string\")\n",
    "b"
   ]
  },
  {
   "cell_type": "code",
   "execution_count": 38,
   "id": "fcc6a875",
   "metadata": {},
   "outputs": [
    {
     "name": "stdout",
     "output_type": "stream",
     "text": [
      "5.6\n"
     ]
    }
   ],
   "source": [
    "## converting python objects to strings \n",
    "a = 5.6\n",
    "s = str(a)\n",
    "print(s)"
   ]
  },
  {
   "cell_type": "code",
   "execution_count": 39,
   "id": "62d87b18",
   "metadata": {},
   "outputs": [
    {
     "data": {
      "text/plain": [
       "['p', 'y', 't', 'h', 'o', 'n']"
      ]
     },
     "execution_count": 39,
     "metadata": {},
     "output_type": "execute_result"
    }
   ],
   "source": [
    "## Strings are a sequence of Unicode characters and therefore can be treated like other sequences\n",
    "\n",
    "s= \"python\"\n",
    "list(s)\n"
   ]
  },
  {
   "cell_type": "code",
   "execution_count": 40,
   "id": "6c182b01",
   "metadata": {},
   "outputs": [
    {
     "data": {
      "text/plain": [
       "'pyt'"
      ]
     },
     "execution_count": 40,
     "metadata": {},
     "output_type": "execute_result"
    }
   ],
   "source": [
    "## slicing\n",
    "s[:3]"
   ]
  },
  {
   "cell_type": "code",
   "execution_count": 43,
   "id": "822aaf27",
   "metadata": {},
   "outputs": [
    {
     "name": "stdout",
     "output_type": "stream",
     "text": [
      "123\\3\n"
     ]
    }
   ],
   "source": [
    "## back slash escape cahracter\n",
    "## used to specify special characters like newline \\n or Unicode characters.\n",
    "\n",
    "s = \"123\\\\3\"\n",
    "print(s)"
   ]
  },
  {
   "cell_type": "code",
   "execution_count": 47,
   "id": "858c64d1",
   "metadata": {},
   "outputs": [
    {
     "name": "stdout",
     "output_type": "stream",
     "text": [
      "this\\has\\no\\special\\characters\n"
     ]
    }
   ],
   "source": [
    "## trick when lot of backslashes, preface the leading quote of the string with r\n",
    "## r stands for raw ***\n",
    "s = r\"this\\has\\no\\special\\characters\"\n",
    "s\n",
    "print(s)"
   ]
  },
  {
   "cell_type": "code",
   "execution_count": 49,
   "id": "8d971b77",
   "metadata": {},
   "outputs": [
    {
     "data": {
      "text/plain": [
       "'play soft'"
      ]
     },
     "execution_count": 49,
     "metadata": {},
     "output_type": "execute_result"
    }
   ],
   "source": [
    "#concatenate\n",
    "a = 'play '\n",
    "b = 'soft'\n",
    "a + b"
   ]
  },
  {
   "cell_type": "markdown",
   "id": "77d6aa76",
   "metadata": {},
   "source": [
    "### String formating\n",
    "\n",
    "String objects have a format method that can be used to substitute formatted arguments into the string, producing a new string"
   ]
  },
  {
   "cell_type": "code",
   "execution_count": 53,
   "id": "35ffeba4",
   "metadata": {},
   "outputs": [],
   "source": [
    "template = \"{0:.2f} {1:s} are worth US${2:d}\"\n",
    "# 0:.2f - format the first argument as a floating-point number with two decimal places.\n",
    "# 1:s format the second argument as a string.\n",
    "# format the third argument as an exact integer."
   ]
  },
  {
   "cell_type": "code",
   "execution_count": 57,
   "id": "a995a812",
   "metadata": {},
   "outputs": [
    {
     "data": {
      "text/plain": [
       "'88.90 Agg my list  are worth US$11'"
      ]
     },
     "execution_count": 57,
     "metadata": {},
     "output_type": "execute_result"
    }
   ],
   "source": [
    "template.format(88.89888, \"Agg my list \", 11)"
   ]
  },
  {
   "cell_type": "code",
   "execution_count": 58,
   "id": "8d7ddb71",
   "metadata": {},
   "outputs": [],
   "source": [
    "## new feature called f-strings (short for formatted string literals) which can make creating formatted strings even more convenient.\n",
    "\n",
    "amount = 10\n",
    "rate = 88.3\n",
    "currency = 'play'\n",
    "result = f\"{amount} {currency} is worth US${amount/rate}\" #***"
   ]
  },
  {
   "cell_type": "code",
   "execution_count": 59,
   "id": "39cb1d1f",
   "metadata": {},
   "outputs": [
    {
     "data": {
      "text/plain": [
       "'10 play is worth US$0.11325028312570781'"
      ]
     },
     "execution_count": 59,
     "metadata": {},
     "output_type": "execute_result"
    }
   ],
   "source": [
    "result"
   ]
  },
  {
   "cell_type": "code",
   "execution_count": 60,
   "id": "417eecc2",
   "metadata": {},
   "outputs": [
    {
     "data": {
      "text/plain": [
       "b'play'"
      ]
     },
     "execution_count": 60,
     "metadata": {},
     "output_type": "execute_result"
    }
   ],
   "source": [
    "## unicodes\n",
    "val = \"play\"\n",
    "val.encode(\"utf-8\")"
   ]
  },
  {
   "cell_type": "markdown",
   "id": "d849bcb3",
   "metadata": {},
   "source": [
    "### Booleans"
   ]
  },
  {
   "cell_type": "code",
   "execution_count": 61,
   "id": "34d79372",
   "metadata": {},
   "outputs": [
    {
     "data": {
      "text/plain": [
       "True"
      ]
     },
     "execution_count": 61,
     "metadata": {},
     "output_type": "execute_result"
    }
   ],
   "source": [
    "True and True"
   ]
  },
  {
   "cell_type": "code",
   "execution_count": 62,
   "id": "4cb81795",
   "metadata": {},
   "outputs": [
    {
     "data": {
      "text/plain": [
       "0"
      ]
     },
     "execution_count": 62,
     "metadata": {},
     "output_type": "execute_result"
    }
   ],
   "source": [
    "int(False)"
   ]
  },
  {
   "cell_type": "code",
   "execution_count": 64,
   "id": "2c48f092",
   "metadata": {},
   "outputs": [
    {
     "data": {
      "text/plain": [
       "True"
      ]
     },
     "execution_count": 64,
     "metadata": {},
     "output_type": "execute_result"
    }
   ],
   "source": [
    "a = False\n",
    "b = not a\n",
    "b"
   ]
  },
  {
   "cell_type": "markdown",
   "id": "a7225ef5",
   "metadata": {},
   "source": [
    "## Type casting"
   ]
  },
  {
   "cell_type": "code",
   "execution_count": 67,
   "id": "db22f815",
   "metadata": {},
   "outputs": [
    {
     "data": {
      "text/plain": [
       "3.144"
      ]
     },
     "execution_count": 67,
     "metadata": {},
     "output_type": "execute_result"
    }
   ],
   "source": [
    "s = \"3.144\"\n",
    "float(s)\n",
    "\n"
   ]
  },
  {
   "cell_type": "code",
   "execution_count": 69,
   "id": "f2bb7cdb",
   "metadata": {},
   "outputs": [
    {
     "data": {
      "text/plain": [
       "3"
      ]
     },
     "execution_count": 69,
     "metadata": {},
     "output_type": "execute_result"
    }
   ],
   "source": [
    "s= float(s)\n",
    "int(s)"
   ]
  },
  {
   "cell_type": "code",
   "execution_count": 70,
   "id": "e569b4be",
   "metadata": {},
   "outputs": [
    {
     "data": {
      "text/plain": [
       "3"
      ]
     },
     "execution_count": 70,
     "metadata": {},
     "output_type": "execute_result"
    }
   ],
   "source": [
    "s= '3'\n",
    "int(s)"
   ]
  },
  {
   "cell_type": "code",
   "execution_count": 71,
   "id": "585ca546",
   "metadata": {},
   "outputs": [
    {
     "ename": "ValueError",
     "evalue": "invalid literal for int() with base 10: '3.144'",
     "output_type": "error",
     "traceback": [
      "\u001b[1;31m---------------------------------------------------------------------------\u001b[0m",
      "\u001b[1;31mValueError\u001b[0m                                Traceback (most recent call last)",
      "Cell \u001b[1;32mIn[71], line 2\u001b[0m\n\u001b[0;32m      1\u001b[0m s \u001b[38;5;241m=\u001b[39m \u001b[38;5;124m\"\u001b[39m\u001b[38;5;124m3.144\u001b[39m\u001b[38;5;124m\"\u001b[39m\n\u001b[1;32m----> 2\u001b[0m \u001b[38;5;28;43mint\u001b[39;49m\u001b[43m(\u001b[49m\u001b[43ms\u001b[49m\u001b[43m)\u001b[49m\n",
      "\u001b[1;31mValueError\u001b[0m: invalid literal for int() with base 10: '3.144'"
     ]
    }
   ],
   "source": [
    "s = \"3.144\" \n",
    "int(s) ##*** invalid"
   ]
  },
  {
   "cell_type": "code",
   "execution_count": 72,
   "id": "4a142448",
   "metadata": {},
   "outputs": [
    {
     "data": {
      "text/plain": [
       "False"
      ]
     },
     "execution_count": 72,
     "metadata": {},
     "output_type": "execute_result"
    }
   ],
   "source": [
    "bool(0)"
   ]
  },
  {
   "cell_type": "code",
   "execution_count": 73,
   "id": "49255513",
   "metadata": {},
   "outputs": [
    {
     "data": {
      "text/plain": [
       "True"
      ]
     },
     "execution_count": 73,
     "metadata": {},
     "output_type": "execute_result"
    }
   ],
   "source": [
    "bool(s)"
   ]
  },
  {
   "cell_type": "markdown",
   "id": "08bc8d98",
   "metadata": {},
   "source": [
    "## None\n",
    "\n",
    "None is the Python null value type\n",
    "\n",
    "None is also a common default value for function arguments"
   ]
  },
  {
   "cell_type": "markdown",
   "id": "4c706253",
   "metadata": {},
   "source": [
    "\n",
    "## Dates and times\n",
    "\n",
    "The built-in Python datetime module provides datetime, date, and time types. \n",
    "\n",
    "The datetime type combines the information stored in date and time and is the most commonly used:\n"
   ]
  },
  {
   "cell_type": "code",
   "execution_count": 74,
   "id": "62b4e446",
   "metadata": {},
   "outputs": [
    {
     "data": {
      "text/plain": [
       "datetime.datetime(2021, 10, 29, 20, 30, 55)"
      ]
     },
     "execution_count": 74,
     "metadata": {},
     "output_type": "execute_result"
    }
   ],
   "source": [
    "from datetime import datetime, date, time\n",
    "dt = datetime(2021, 10, 29, 20, 30 ,55)\n",
    "dt"
   ]
  },
  {
   "cell_type": "code",
   "execution_count": 78,
   "id": "114e8acd",
   "metadata": {},
   "outputs": [
    {
     "data": {
      "text/plain": [
       "30"
      ]
     },
     "execution_count": 78,
     "metadata": {},
     "output_type": "execute_result"
    }
   ],
   "source": [
    "dt.year\n",
    "dt.month\n",
    "dt.day\n",
    "dt.minute"
   ]
  },
  {
   "cell_type": "code",
   "execution_count": 79,
   "id": "ef495f7a",
   "metadata": {},
   "outputs": [
    {
     "data": {
      "text/plain": [
       "datetime.date(2021, 10, 29)"
      ]
     },
     "execution_count": 79,
     "metadata": {},
     "output_type": "execute_result"
    }
   ],
   "source": [
    "## to extract date and time\n",
    "dt.date()"
   ]
  },
  {
   "cell_type": "code",
   "execution_count": 80,
   "id": "af0ad806",
   "metadata": {},
   "outputs": [
    {
     "data": {
      "text/plain": [
       "datetime.time(20, 30, 55)"
      ]
     },
     "execution_count": 80,
     "metadata": {},
     "output_type": "execute_result"
    }
   ],
   "source": [
    "dt.time()"
   ]
  },
  {
   "cell_type": "code",
   "execution_count": 83,
   "id": "63fbf762",
   "metadata": {},
   "outputs": [
    {
     "data": {
      "text/plain": [
       "'2021-10-29 20:30'"
      ]
     },
     "execution_count": 83,
     "metadata": {},
     "output_type": "execute_result"
    }
   ],
   "source": [
    "## formats datetime as string using strftime method\n",
    "\n",
    "dt.strftime(\"%Y-%m-%d %H:%M\") #****"
   ]
  },
  {
   "cell_type": "code",
   "execution_count": 84,
   "id": "109fdbeb",
   "metadata": {},
   "outputs": [
    {
     "data": {
      "text/plain": [
       "datetime.datetime(2020, 10, 1, 0, 0)"
      ]
     },
     "execution_count": 84,
     "metadata": {},
     "output_type": "execute_result"
    }
   ],
   "source": [
    "## Strings can be converted (parsed) into datetime objects with the strptime function:\n",
    "\n",
    "datetime.strptime(\"20201001\", \"%Y%m%d\") #******"
   ]
  },
  {
   "cell_type": "code",
   "execution_count": 86,
   "id": "06427c56",
   "metadata": {},
   "outputs": [
    {
     "data": {
      "text/plain": [
       "datetime.datetime(2021, 10, 29, 20, 0)"
      ]
     },
     "execution_count": 86,
     "metadata": {},
     "output_type": "execute_result"
    }
   ],
   "source": [
    "## datetime.datetime is immutable\n",
    "## so in below code dt is not modified by replace\n",
    "dt_h = dt.replace(minute=0, second =0)\n",
    "dt_h\n"
   ]
  },
  {
   "cell_type": "code",
   "execution_count": 87,
   "id": "af4638bc",
   "metadata": {},
   "outputs": [
    {
     "data": {
      "text/plain": [
       "datetime.datetime(2021, 10, 29, 20, 30, 55)"
      ]
     },
     "execution_count": 87,
     "metadata": {},
     "output_type": "execute_result"
    }
   ],
   "source": [
    "dt"
   ]
  },
  {
   "cell_type": "code",
   "execution_count": 88,
   "id": "28eac912",
   "metadata": {},
   "outputs": [],
   "source": [
    "## difference of two datetime objects produces a datetime.timedelta type:"
   ]
  },
  {
   "cell_type": "code",
   "execution_count": 90,
   "id": "813492ce",
   "metadata": {},
   "outputs": [
    {
     "data": {
      "text/plain": [
       "datetime.timedelta(days=-3636, seconds=7145)"
      ]
     },
     "execution_count": 90,
     "metadata": {},
     "output_type": "execute_result"
    }
   ],
   "source": [
    "dt2 = datetime(2011, 11, 15, 22, 30)\n",
    "delta = dt2 -dt\n",
    "delta"
   ]
  },
  {
   "cell_type": "code",
   "execution_count": 92,
   "id": "2d5909f3",
   "metadata": {},
   "outputs": [
    {
     "data": {
      "text/plain": [
       "datetime.datetime(2011, 11, 15, 22, 30)"
      ]
     },
     "execution_count": 92,
     "metadata": {},
     "output_type": "execute_result"
    }
   ],
   "source": [
    "## Adding a timedelta to a datetime produces a new shifted datetime:\n",
    "dt3 = delta + dt\n",
    "dt3"
   ]
  },
  {
   "cell_type": "markdown",
   "id": "6435a34c",
   "metadata": {},
   "source": [
    "## Control Flow"
   ]
  },
  {
   "cell_type": "markdown",
   "id": "86ef43ba",
   "metadata": {},
   "source": [
    "### IF"
   ]
  },
  {
   "cell_type": "code",
   "execution_count": 95,
   "id": "9177a6b7",
   "metadata": {},
   "outputs": [
    {
     "name": "stdout",
     "output_type": "stream",
     "text": [
      "IT's negative\n"
     ]
    }
   ],
   "source": [
    "x =2\n",
    "if x<6:\n",
    "    print(\"IT's negative\")"
   ]
  },
  {
   "cell_type": "code",
   "execution_count": 106,
   "id": "049381ee",
   "metadata": {},
   "outputs": [
    {
     "ename": "TypeError",
     "evalue": "'<' not supported between instances of 'list' and 'int'",
     "output_type": "error",
     "traceback": [
      "\u001b[1;31m---------------------------------------------------------------------------\u001b[0m",
      "\u001b[1;31mTypeError\u001b[0m                                 Traceback (most recent call last)",
      "Cell \u001b[1;32mIn[106], line 1\u001b[0m\n\u001b[1;32m----> 1\u001b[0m \u001b[38;5;28;01mif\u001b[39;00m \u001b[43mx\u001b[49m\u001b[38;5;241;43m<\u001b[39;49m\u001b[38;5;241;43m0\u001b[39;49m:\n\u001b[0;32m      2\u001b[0m     \u001b[38;5;28mprint\u001b[39m(\u001b[38;5;124m\"\u001b[39m\u001b[38;5;124mhh\u001b[39m\u001b[38;5;124m\"\u001b[39m)\n\u001b[0;32m      3\u001b[0m \u001b[38;5;28;01melif\u001b[39;00m x \u001b[38;5;241m==\u001b[39m\u001b[38;5;241m0\u001b[39m:\n",
      "\u001b[1;31mTypeError\u001b[0m: '<' not supported between instances of 'list' and 'int'"
     ]
    }
   ],
   "source": [
    "if x<0:\n",
    "    print(\"hh\")\n",
    "elif x ==0:\n",
    "    print(\"play\")\n",
    "elif x<5:\n",
    "    print(\"pp\")\n",
    "else:\n",
    "    print(\"positive\")"
   ]
  },
  {
   "cell_type": "markdown",
   "id": "e23efb45",
   "metadata": {},
   "source": [
    "### for"
   ]
  },
  {
   "cell_type": "code",
   "execution_count": 110,
   "id": "bd00eab6",
   "metadata": {},
   "outputs": [
    {
     "name": "stdout",
     "output_type": "stream",
     "text": [
      "1\n",
      "2\n",
      "3\n",
      "4\n"
     ]
    }
   ],
   "source": [
    "x = [1, 2, None, 3, 4, None]\n",
    "total = 0\n",
    "for value in x:\n",
    "    if value is None:\n",
    "        continue  #dvance a for loop to the next iteration , skipping reminder\n",
    "    print(value)\n",
    "    total += value"
   ]
  },
  {
   "cell_type": "code",
   "execution_count": 105,
   "id": "57e532a7",
   "metadata": {},
   "outputs": [
    {
     "name": "stdout",
     "output_type": "stream",
     "text": [
      "1\n",
      "2\n"
     ]
    }
   ],
   "source": [
    "x = [1, 2, None, 3, 4, None]\n",
    "total = 0\n",
    "for value in x:\n",
    "    if value is None:\n",
    "        break  # for loop can be exited altogether with the break keyword\n",
    "    print(value)\n",
    "    total += value"
   ]
  },
  {
   "cell_type": "markdown",
   "id": "c37189f2",
   "metadata": {},
   "source": [
    "##### break keyword only terminates \n",
    "the innermost for loop; any outer for loops will continue to run"
   ]
  },
  {
   "cell_type": "markdown",
   "id": "46d2f0df",
   "metadata": {},
   "source": [
    "## While\n",
    "\n",
    "A while loop specifies a condition and a block of code that is to be executed until the condition evaluates to False or\n",
    "the loop is explicitly ended with break:"
   ]
  },
  {
   "cell_type": "code",
   "execution_count": 112,
   "id": "897bed4d",
   "metadata": {},
   "outputs": [
    {
     "name": "stdout",
     "output_type": "stream",
     "text": [
      "34 51.0\n",
      "85.0 76.5\n",
      "161.5 114.75\n"
     ]
    }
   ],
   "source": [
    "x = 34\n",
    "total = 0\n",
    "while x>0:\n",
    "    if x > 100:\n",
    "        break\n",
    "    total += x\n",
    "    x = 1.5*x\n",
    "    print(total, x)\n",
    "    "
   ]
  },
  {
   "cell_type": "markdown",
   "id": "581dad0f",
   "metadata": {},
   "source": [
    "## Pass\n",
    "pass is the “no-op” (or \"do nothing\") statement in Python. \n",
    "It can be used in blocks where no action is to be taken (or as a placeholder for code not yet implemented); \n",
    "it is required only because Python uses whitespace to delimit blocks:"
   ]
  },
  {
   "cell_type": "code",
   "execution_count": 113,
   "id": "af4e3705",
   "metadata": {},
   "outputs": [
    {
     "name": "stdout",
     "output_type": "stream",
     "text": [
      "positive\n"
     ]
    }
   ],
   "source": [
    "if x < 0:\n",
    "    print('neg')\n",
    "elif x ==0:\n",
    "    pass\n",
    "else:\n",
    "    print('positive')"
   ]
  },
  {
   "cell_type": "markdown",
   "id": "aeadab0a",
   "metadata": {},
   "source": [
    "## Range\n",
    "generates a sequence of evenly spaced integers\n",
    "range produces integers up to but not including the endpoint. A common use of range is for iterating through sequences by index"
   ]
  },
  {
   "cell_type": "code",
   "execution_count": 114,
   "id": "93511c8a",
   "metadata": {},
   "outputs": [
    {
     "data": {
      "text/plain": [
       "range(0, 10)"
      ]
     },
     "execution_count": 114,
     "metadata": {},
     "output_type": "execute_result"
    }
   ],
   "source": [
    "range(10)"
   ]
  },
  {
   "cell_type": "code",
   "execution_count": 115,
   "id": "f76f598c",
   "metadata": {},
   "outputs": [
    {
     "data": {
      "text/plain": [
       "[0, 1, 2, 3, 4, 5, 6, 7, 8, 9]"
      ]
     },
     "execution_count": 115,
     "metadata": {},
     "output_type": "execute_result"
    }
   ],
   "source": [
    "list(range(10)) # say list ****"
   ]
  },
  {
   "cell_type": "code",
   "execution_count": 116,
   "id": "a9eb1eff",
   "metadata": {},
   "outputs": [
    {
     "data": {
      "text/plain": [
       "[0, 2, 4, 6, 8, 10, 12, 14, 16, 18]"
      ]
     },
     "execution_count": 116,
     "metadata": {},
     "output_type": "execute_result"
    }
   ],
   "source": [
    "list(range(0,20,2))"
   ]
  },
  {
   "cell_type": "code",
   "execution_count": 119,
   "id": "452dd58d",
   "metadata": {},
   "outputs": [
    {
     "data": {
      "text/plain": [
       "[]"
      ]
     },
     "execution_count": 119,
     "metadata": {},
     "output_type": "execute_result"
    }
   ],
   "source": [
    "list(range(2,5,-1))"
   ]
  },
  {
   "cell_type": "code",
   "execution_count": null,
   "id": "9d267f7b",
   "metadata": {},
   "outputs": [],
   "source": []
  }
 ],
 "metadata": {
  "kernelspec": {
   "display_name": "Python 3 (ipykernel)",
   "language": "python",
   "name": "python3"
  },
  "language_info": {
   "codemirror_mode": {
    "name": "ipython",
    "version": 3
   },
   "file_extension": ".py",
   "mimetype": "text/x-python",
   "name": "python",
   "nbconvert_exporter": "python",
   "pygments_lexer": "ipython3",
   "version": "3.10.9"
  }
 },
 "nbformat": 4,
 "nbformat_minor": 5
}
